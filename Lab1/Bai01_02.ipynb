{
  "nbformat": 4,
  "nbformat_minor": 0,
  "metadata": {
    "colab": {
      "provenance": []
    },
    "kernelspec": {
      "name": "python3",
      "display_name": "Python 3"
    },
    "language_info": {
      "name": "python"
    }
  },
  "cells": [
    {
      "cell_type": "code",
      "execution_count": null,
      "metadata": {
        "colab": {
          "base_uri": "https://localhost:8080/"
        },
        "id": "Kt7eZH5cIc3o",
        "outputId": "92cff516-5680-4c27-e6ad-24cf91544e66"
      },
      "outputs": [
        {
          "output_type": "stream",
          "name": "stdout",
          "text": [
            "Ma trận A:\n",
            " [[1 1]\n",
            " [8 2]]\n",
            "Ma trận B:\n",
            " [[1 8]\n",
            " [4 8]]\n",
            "Tổng 2 ma trận:\n",
            " [[ 2  9]\n",
            " [12 10]]\n",
            "Hiệu 2 ma trận:\n",
            " [[ 0 -7]\n",
            " [ 4 -6]]\n"
          ]
        }
      ],
      "source": [
        "import numpy as np\n",
        "\n",
        "# Tạo ma trận A và B\n",
        "A = np.array([[1, 1], [8, 2]])\n",
        "B = np.array([[1, 8], [4, 8]])\n",
        "\n",
        "# Cộng hai ma trận\n",
        "C = A + B\n",
        "\n",
        "# Trừ hai ma trận\n",
        "D = A - B\n",
        "\n",
        "print(\"Ma trận A:\\n\", A)\n",
        "print(\"Ma trận B:\\n\", B)\n",
        "print(\"Tổng 2 ma trận:\\n\", C)\n",
        "print(\"Hiệu 2 ma trận:\\n\", D)"
      ]
    },
    {
      "cell_type": "code",
      "source": [
        "import pandas as pd\n",
        "\n",
        "# Dữ liệu từ bảng được cung cấp sẵn\n",
        "data = {\n",
        "    'X': [78, 85, 80, 96, 86],\n",
        "    'Y': [84, 94, 83, 94, 86],\n",
        "    'Z': [86, 97, 73, 96, 83]\n",
        "}\n",
        "\n",
        "# Tạo DataFrame từ dữ liệu\n",
        "df = pd.DataFrame(data, index=[1, 2, 3, 4, 5])\n",
        "\n",
        "# Lưu DataFrame vào tập tin CSV\n",
        "df.to_csv('Lab1_Bai2.csv', index=True)"
      ],
      "metadata": {
        "id": "WmN1vO2tWeEh"
      },
      "execution_count": null,
      "outputs": []
    },
    {
      "cell_type": "code",
      "source": [
        "import pandas as pd\n",
        "import numpy as np\n",
        "\n",
        "# Đọc tập tin CSV vào DataFrame\n",
        "df = pd.read_csv('Lab1_Bai2.csv', index_col=0)\n",
        "print(\"Đọc CSV thành Dataframe và hiển thị:\")\n",
        "print(df)"
      ],
      "metadata": {
        "colab": {
          "base_uri": "https://localhost:8080/"
        },
        "id": "I28gjSlQcPwq",
        "outputId": "ebcd773d-5416-432e-e524-68162c82de2b"
      },
      "execution_count": null,
      "outputs": [
        {
          "output_type": "stream",
          "name": "stdout",
          "text": [
            "Đọc CSV thành Dataframe và hiển thị:\n",
            "    X   Y   Z\n",
            "1  78  84  86\n",
            "2  85  94  97\n",
            "3  80  83  73\n",
            "4  96  94  96\n",
            "5  86  86  83\n"
          ]
        }
      ]
    },
    {
      "cell_type": "code",
      "source": [
        "import pandas as pd\n",
        "\n",
        "# Chuyển index mặc định thành giá trị cột id\n",
        "df = pd.read_csv('Lab1_Bai2.csv')\n",
        "df.rename(columns={'Unnamed: 0': 'id'}, inplace=True)\n",
        "df.set_index('id', inplace=True)\n",
        "print(df)\n",
        "df.to_csv('Lab1_Bai2.csv', index=True, index_label='id')"
      ],
      "metadata": {
        "colab": {
          "base_uri": "https://localhost:8080/"
        },
        "id": "rov3Ek5dex6V",
        "outputId": "1e2edaae-3dba-47a6-9910-54e97f87ed8c"
      },
      "execution_count": null,
      "outputs": [
        {
          "output_type": "stream",
          "name": "stdout",
          "text": [
            "     X   Y   Z\n",
            "id            \n",
            "1   78  84  86\n",
            "2   85  94  97\n",
            "3   80  83  73\n",
            "4   96  94  96\n",
            "5   86  86  83\n"
          ]
        }
      ]
    },
    {
      "cell_type": "code",
      "source": [
        "import pandas as pd\n",
        "\n",
        "# Sắp xếp dữ liệu theo cột X và Y\n",
        "df = pd.read_csv('Lab1_Bai2.csv')\n",
        "df.set_index('id', inplace=True)\n",
        "df_sorted = df.sort_values(by=['X', 'Y'])\n",
        "print(\"\\nDataFrame sau khi sắp xếp theo X và Y:\")\n",
        "print(df_sorted)\n",
        "df_sorted.to_csv('Lab1_Bai2.csv', index=True, index_label='id')"
      ],
      "metadata": {
        "colab": {
          "base_uri": "https://localhost:8080/"
        },
        "id": "PAcEv2u3kae0",
        "outputId": "e2ee9e42-7565-4e0c-a99a-4ac3c374eab0"
      },
      "execution_count": null,
      "outputs": [
        {
          "output_type": "stream",
          "name": "stdout",
          "text": [
            "\n",
            "DataFrame sau khi sắp xếp theo X và Y:\n",
            "     X   Y   Z\n",
            "id            \n",
            "1   78  84  86\n",
            "3   80  83  73\n",
            "2   85  94  97\n",
            "5   86  86  83\n",
            "4   96  94  96\n"
          ]
        }
      ]
    },
    {
      "cell_type": "code",
      "source": [
        "import pandas as pd\n",
        "\n",
        "#Chọn một cột cụ thể và hiển thị nó (chọn cột Z)\n",
        "df = pd.read_csv('Lab1_Bai2.csv')\n",
        "df.set_index('id', inplace=True)\n",
        "column_z = df['Z']\n",
        "print(\"\\nCột Z:\")\n",
        "print(column_z)"
      ],
      "metadata": {
        "colab": {
          "base_uri": "https://localhost:8080/"
        },
        "id": "JRDiiD1soVSR",
        "outputId": "48600e4d-7a1e-4ab1-a4c1-14d8a7dabd37"
      },
      "execution_count": null,
      "outputs": [
        {
          "output_type": "stream",
          "name": "stdout",
          "text": [
            "\n",
            "Cột Z:\n",
            "id\n",
            "1    86\n",
            "3    73\n",
            "2    97\n",
            "5    83\n",
            "4    96\n",
            "Name: Z, dtype: int64\n"
          ]
        }
      ]
    },
    {
      "cell_type": "code",
      "source": [
        "import pandas as pd\n",
        "\n",
        "# Chọn 2 hàng đầu tiên và hiển thị chúng\n",
        "df = pd.read_csv('Lab1_Bai2.csv')\n",
        "df.set_index('id', inplace=True)\n",
        "first_two_rows = df.head(2)\n",
        "print(\"\\nHai hàng đầu tiên của DataFrame:\")\n",
        "print(first_two_rows)"
      ],
      "metadata": {
        "colab": {
          "base_uri": "https://localhost:8080/"
        },
        "id": "XLNK3dv1pLl2",
        "outputId": "4cc1dbc3-29b7-4e74-e985-1eaa451d6da4"
      },
      "execution_count": null,
      "outputs": [
        {
          "output_type": "stream",
          "name": "stdout",
          "text": [
            "\n",
            "Hai hàng đầu tiên của DataFrame:\n",
            "     X   Y   Z\n",
            "id            \n",
            "1   78  84  86\n",
            "3   80  83  73\n"
          ]
        }
      ]
    },
    {
      "cell_type": "code",
      "source": [
        "import pandas as pd\n",
        "\n",
        "# Chọn một hàng dựa trên một điều kiện cụ thể của cột (Z = 97)\n",
        "df = pd.read_csv('Lab1_Bai2.csv')\n",
        "df.set_index('id', inplace=True)\n",
        "row_condition = df[df['Z'] == 97]\n",
        "print(\"\\nHàng với điều kiện Z = 97:\")\n",
        "print(row_condition)"
      ],
      "metadata": {
        "colab": {
          "base_uri": "https://localhost:8080/"
        },
        "id": "05-zIrixp6wI",
        "outputId": "a2ca2b8e-e2bc-47cb-9312-26bfd5ea8485"
      },
      "execution_count": null,
      "outputs": [
        {
          "output_type": "stream",
          "name": "stdout",
          "text": [
            "\n",
            "Hàng với điều kiện Z = 97:\n",
            "     X   Y   Z\n",
            "id            \n",
            "2   85  94  97\n"
          ]
        }
      ]
    },
    {
      "cell_type": "code",
      "source": [
        "import pandas as pd\n",
        "\n",
        "# Thay đổi một vài giá trị thành NaN và sau đó thay thế chúng bằng giá trị 0\n",
        "df = pd.read_csv('Lab1_Bai2.csv')\n",
        "df.set_index('id', inplace=True)\n",
        "df.loc[3, 'X'] = np.nan\n",
        "df.loc[2, 'Y'] = np.nan\n",
        "df = df.fillna(0).astype('Int64')\n",
        "print(\"\\nDataFrame sau khi thay thế NaN bằng 0:\")\n",
        "print(df)\n",
        "df.to_csv('Lab1_Bai2.csv', index=True, index_label='id')"
      ],
      "metadata": {
        "colab": {
          "base_uri": "https://localhost:8080/"
        },
        "id": "lqFDU74ZrHDT",
        "outputId": "c982850b-2f55-40b4-84b7-7083338a6d9b"
      },
      "execution_count": null,
      "outputs": [
        {
          "output_type": "stream",
          "name": "stdout",
          "text": [
            "\n",
            "DataFrame sau khi thay thế NaN bằng 0:\n",
            "     X   Y   Z\n",
            "id            \n",
            "1   78  84  86\n",
            "3    0  83  73\n",
            "2   85   0  97\n",
            "5   86  86  83\n",
            "4   96  94  96\n"
          ]
        }
      ]
    },
    {
      "cell_type": "code",
      "source": [
        "import pandas as pd\n",
        "\n",
        "# Trong cột Z chuyển giá trị lớn hơn 90 là True và nhỏ hơn hoặc bằng là False\n",
        "df = pd.read_csv('Lab1_Bai2.csv')\n",
        "df.set_index('id', inplace=True)\n",
        "df['Z'] = df['Z'] > 90\n",
        "print(\"\\nDataFrame cột Z sau khi chuyển giá trị lớn hơn 90 là True và bé hơn là False:\")\n",
        "print(df)"
      ],
      "metadata": {
        "colab": {
          "base_uri": "https://localhost:8080/"
        },
        "id": "jXc15QmNto5g",
        "outputId": "6a2e55fd-5a0c-4601-f4d6-666e46b72dc7"
      },
      "execution_count": null,
      "outputs": [
        {
          "output_type": "stream",
          "name": "stdout",
          "text": [
            "\n",
            "DataFrame cột Z sau khi chuyển giá trị lớn hơn 90 là True và bé hơn là False:\n",
            "     X   Y      Z\n",
            "id               \n",
            "1   78  84  False\n",
            "3    0  83  False\n",
            "2   85   0   True\n",
            "5   86  86  False\n",
            "4   96  94   True\n"
          ]
        }
      ]
    },
    {
      "cell_type": "code",
      "source": [
        "import pandas as pd\n",
        "\n",
        "# Chuyển DataFrame thành 2 DataFrame d1 và d2; d1 chứa cột X và Y, d2 chứa cột Z\n",
        "df = pd.read_csv('Lab1_Bai2.csv')\n",
        "df.set_index('id', inplace=True)\n",
        "d1 = df[['X', 'Y']]\n",
        "d2 = df[['Z']]\n",
        "print(\"\\nDataFrame d1:\")\n",
        "print(d1)\n",
        "print(\"\\nDataFrame d2:\")\n",
        "print(d2)\n",
        "\n",
        "# Nối d1 và d2 theo cột\n",
        "df_concatenated = pd.concat([d1, d2], axis=1)\n",
        "print(\"\\nDataFrame sau khi ghép d1 và d2:\")\n",
        "print(df_concatenated)"
      ],
      "metadata": {
        "colab": {
          "base_uri": "https://localhost:8080/"
        },
        "id": "pTT_hm9DvAov",
        "outputId": "a3649785-58cb-4a72-d206-64f7cf27f64d"
      },
      "execution_count": null,
      "outputs": [
        {
          "output_type": "stream",
          "name": "stdout",
          "text": [
            "\n",
            "DataFrame d1:\n",
            "     X   Y\n",
            "id        \n",
            "1   78  84\n",
            "3    0  83\n",
            "2   85   0\n",
            "5   86  86\n",
            "4   96  94\n",
            "\n",
            "DataFrame d2:\n",
            "     Z\n",
            "id    \n",
            "1   86\n",
            "3   73\n",
            "2   97\n",
            "5   83\n",
            "4   96\n",
            "\n",
            "DataFrame sau khi ghép d1 và d2:\n",
            "     X   Y   Z\n",
            "id            \n",
            "1   78  84  86\n",
            "3    0  83  73\n",
            "2   85   0  97\n",
            "5   86  86  83\n",
            "4   96  94  96\n"
          ]
        }
      ]
    },
    {
      "cell_type": "code",
      "source": [
        "import pandas as pd\n",
        "\n",
        "# Dùng tính năng thống kê để hiển thị kết quả thông kê các giá trị thuộc tính của DataFrame\n",
        "df = pd.read_csv('Lab1_Bai2.csv')\n",
        "df.set_index('id', inplace=True)\n",
        "statistics = df.describe()\n",
        "print(\"\\nThống kê cơ bản của DataFrame:\")\n",
        "print(statistics)"
      ],
      "metadata": {
        "colab": {
          "base_uri": "https://localhost:8080/"
        },
        "id": "oifRb5SFwFcq",
        "outputId": "49dba460-5a52-4691-a9c9-568b3f28be5e"
      },
      "execution_count": null,
      "outputs": [
        {
          "output_type": "stream",
          "name": "stdout",
          "text": [
            "\n",
            "Thống kê cơ bản của DataFrame:\n",
            "              X          Y          Z\n",
            "count   5.00000   5.000000   5.000000\n",
            "mean   69.00000  69.400000  87.000000\n",
            "std    39.10243  39.035881   9.924717\n",
            "min     0.00000   0.000000  73.000000\n",
            "25%    78.00000  83.000000  83.000000\n",
            "50%    85.00000  84.000000  86.000000\n",
            "75%    86.00000  86.000000  96.000000\n",
            "max    96.00000  94.000000  97.000000\n"
          ]
        }
      ]
    }
  ]
}