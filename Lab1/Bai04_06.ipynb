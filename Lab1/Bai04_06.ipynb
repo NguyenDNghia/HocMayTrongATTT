{
  "nbformat": 4,
  "nbformat_minor": 0,
  "metadata": {
    "colab": {
      "provenance": []
    },
    "kernelspec": {
      "name": "python3",
      "display_name": "Python 3"
    },
    "language_info": {
      "name": "python"
    }
  },
  "cells": [
    {
      "cell_type": "code",
      "source": [
        "!git clone https://github.com/mcflinta/Dataset_ML__Newbie.git"
      ],
      "metadata": {
        "colab": {
          "base_uri": "https://localhost:8080/"
        },
        "id": "24BRpixwKh_q",
        "outputId": "a19cf64f-1f4c-4e6b-881b-d13e1f795286"
      },
      "execution_count": 2,
      "outputs": [
        {
          "output_type": "stream",
          "name": "stdout",
          "text": [
            "Cloning into 'Dataset_ML__Newbie'...\n",
            "remote: Enumerating objects: 12, done.\u001b[K\n",
            "remote: Counting objects: 100% (12/12), done.\u001b[K\n",
            "remote: Compressing objects: 100% (10/10), done.\u001b[K\n",
            "remote: Total 12 (delta 0), reused 9 (delta 0), pack-reused 0\u001b[K\n",
            "Receiving objects: 100% (12/12), 544.95 KiB | 7.78 MiB/s, done.\n"
          ]
        }
      ]
    },
    {
      "cell_type": "markdown",
      "source": [
        "## Câu 4: Phát hiện spam với SVMs và Linear regression"
      ],
      "metadata": {
        "id": "9z0L-DppIFAP"
      }
    },
    {
      "cell_type": "markdown",
      "source": [
        "### 1. Phát hiện spam với SVMs"
      ],
      "metadata": {
        "id": "bkLPb4U9IwGk"
      }
    },
    {
      "cell_type": "code",
      "execution_count": null,
      "metadata": {
        "colab": {
          "base_uri": "https://localhost:8080/"
        },
        "id": "UIDsv0nPE7Ro",
        "outputId": "1c17dca0-c626-4c90-de89-0dd827f9598e"
      },
      "outputs": [
        {
          "output_type": "stream",
          "name": "stdout",
          "text": [
            "Misclassified samples: 7\n",
            "Accuracy: 0.84\n"
          ]
        }
      ],
      "source": [
        "import pandas as pd\n",
        "import numpy as np\n",
        "from sklearn.svm import SVC\n",
        "from sklearn.model_selection import train_test_split\n",
        "from sklearn.metrics import accuracy_score\n",
        "\n",
        "# Đọc file csv\n",
        "df = pd.read_csv('/content/Dataset_ML__Newbie/Lab_1/Datasets/sms_spam_svm.csv')\n",
        "y = df.iloc[:, 0].values\n",
        "y = np.where(y == 'spam', -1, 1)\n",
        "X = df.iloc[:, [1, 2]].values\n",
        "# Chia tập dataset với tỉ lệ 7:3 (train:test)\n",
        "X_train, X_test, y_train, y_test = train_test_split(\n",
        " X, y, test_size=0.3, random_state=0)\n",
        "\n",
        "# Sử dụng SVMs để phát hiện spam\n",
        "svm = SVC(kernel='linear', C=1.0, random_state=0)\n",
        "# Huấn luyện mô hình\n",
        "svm.fit(X_train, y_train)\n",
        "# Đánh giá mô hình\n",
        "y_pred = svm.predict(X_test)\n",
        "print('Misclassified samples: %d' % (y_test != y_pred).sum())\n",
        "print('Accuracy: %.2f' % accuracy_score(y_test, y_pred))"
      ]
    },
    {
      "cell_type": "markdown",
      "source": [
        "### 2. Phát hiện spam với Linear Regression"
      ],
      "metadata": {
        "id": "NOQmhwUrLZfS"
      }
    },
    {
      "cell_type": "code",
      "source": [
        "import pandas as pd\n",
        "import numpy as np\n",
        "from sklearn.model_selection import train_test_split\n",
        "from sklearn.metrics import accuracy_score\n",
        "from sklearn.linear_model import LinearRegression\n",
        "from sklearn.metrics import mean_squared_error, mean_absolute_error\n",
        "# Đọc dataset\n",
        "df = pd.read_csv('/content/Dataset_ML__Newbie/Lab_1/Datasets/sms_spam_svm.csv')\n",
        "y = df.iloc[:, 0].values\n",
        "# Nếu giá trị của y[index] là spam thì mang giá trị 1 ngược lại là 0\n",
        "y = np.where(y == 'spam', 1, 0)\n",
        "# Ma trận X sẽ lấy giá trị của tất cả các hàng với cột 1 và cột 2 của dataset\n",
        "X = df.iloc[:, [1, 2]].values\n",
        "\n",
        "X_train, X_test, y_train, y_test = train_test_split(\n",
        "    X, y, test_size=0.3, random_state=0)\n",
        "\n",
        "# Sử dụng model với LinearRegression\n",
        "model = LinearRegression().fit(X_train, y_train)\n",
        "\n",
        "# Lưu giá trị mà model đã dụ đoán\n",
        "y_pred = model.predict(X_test)\n",
        "\n",
        "# Đánh giá model với MSE và MAE\n",
        "# MSE\n",
        "print(f'Mean Square Error: {mean_squared_error(y_test, y_pred)}')\n",
        "# MAE\n",
        "print(f'Mean Absolute Error: {mean_absolute_error(y_test, y_pred)}')"
      ],
      "metadata": {
        "id": "IE6t94YZLiph",
        "colab": {
          "base_uri": "https://localhost:8080/"
        },
        "outputId": "cc2de6cb-9b82-4e76-a2be-fd5218d2963b"
      },
      "execution_count": null,
      "outputs": [
        {
          "output_type": "stream",
          "name": "stdout",
          "text": [
            "Mean Square Error: 0.14445008988999872\n",
            "Mean Absolute Error: 0.29867295165055574\n"
          ]
        }
      ]
    },
    {
      "cell_type": "markdown",
      "source": [
        "## Câu 5: Chức năng của phương thức genfromtxt() trong thư viện numpy.\n"
      ],
      "metadata": {
        "id": "VnMLNEnbiIX9"
      }
    },
    {
      "cell_type": "code",
      "source": [
        "import pandas as pd\n",
        "import numpy as np\n",
        "from sklearn import *\n",
        "from sklearn.linear_model import LogisticRegression\n",
        "from sklearn.metrics import accuracy_score\n",
        "\n",
        "phishing_dataset = np.genfromtxt('/content/Dataset_ML__Newbie/Lab_1/Datasets/phishing_dataset.csv',\n",
        "                                 delimiter=',',\n",
        "                                 dtype=np.int32)\n",
        "\n",
        "samples = phishing_dataset[:, :-1]\n",
        "targets = phishing_dataset[:, -1]\n",
        "\n",
        "from sklearn.model_selection import train_test_split\n",
        "\n",
        "training_samples_lr, testing_samples_lr, training_targets_lr, testing_targets_lr = train_test_split(\n",
        "    samples, targets, test_size=0.2, random_state=0)\n",
        "\n",
        "log_classifier = LogisticRegression()\n",
        "log_classifier.fit(training_samples_lr, training_targets_lr)\n",
        "predictions_lr = log_classifier.predict(testing_samples_lr)\n",
        "\n",
        "accuracy_lr = 100.0 * accuracy_score(testing_targets_lr, predictions_lr)\n",
        "print('Logistic Regression accuracy:' + str(accuracy_lr))"
      ],
      "metadata": {
        "colab": {
          "base_uri": "https://localhost:8080/"
        },
        "id": "ujKcNrERiJSo",
        "outputId": "011b178c-c022-45aa-b3f4-fca3a81171d0"
      },
      "execution_count": 5,
      "outputs": [
        {
          "output_type": "stream",
          "name": "stdout",
          "text": [
            "Logistic Regression accuracy:91.67797376752601\n"
          ]
        }
      ]
    },
    {
      "cell_type": "markdown",
      "source": [
        "**Hàm np.genfromtxt sẽ đọc file text và csv và làm 1 trong 2 chức năng dưới đây**\n",
        "* Sẽ trả về 1 masked array, chúng sẽ che đi những giá trị bị thiếu hay không hợp lệ (nếu như usemask = True)\n",
        "* Hoặc điền vào giá trị còn thiếu hay không hợp lệ được chỉ định trong fill_values (mặc định là np.nan cho float, -1 cho int)\n",
        "\n",
        "\n",
        "Tóm lại hàm genfromtxt sẽ giúp dữ liệu đầu vào không bị nhiễu bởi các giá trị không mong muốn"
      ],
      "metadata": {
        "id": "krrlNtcEkjun"
      }
    },
    {
      "cell_type": "markdown",
      "source": [
        "## Câu 6: Hoàn thiện code Decision trees trên và đánh giá kết quả nhận được so với phương pháp Logistic regression"
      ],
      "metadata": {
        "id": "I5NKODMlqxAr"
      }
    },
    {
      "cell_type": "code",
      "source": [
        "import pandas as pd\n",
        "import numpy as np\n",
        "from sklearn import *\n",
        "from sklearn import tree\n",
        "from sklearn.metrics import accuracy_score\n",
        "from sklearn.model_selection import train_test_split\n",
        "from sklearn.metrics import classification_report\n",
        "phishing_dataset = np.genfromtxt('/content/Dataset_ML__Newbie/Lab_1/Datasets/phishing_dataset.csv',\n",
        "                                 delimiter=',',\n",
        "                                 dtype=np.int32)\n",
        "\n",
        "samples = phishing_dataset[:, :-1]\n",
        "targets = phishing_dataset[:, -1]\n",
        "\n",
        "training_samples_tree, testing_samples_tree, training_targets_tree, testing_targets_tree = train_test_split(\n",
        "    samples, targets, test_size=0.2, random_state=0)\n",
        "# Chọn thuật toán DecisionTreeClassfier()\n",
        "tree_classifier = tree.DecisionTreeClassifier()\n",
        "# Huấn luyện mô hình\n",
        "tree_classifier.fit(training_samples_tree, training_targets_tree)\n",
        "\n",
        "predictions_tree = tree_classifier.predict(testing_samples_tree)\n",
        "\n",
        "# Đánh giá mô hihnhf\n",
        "print(\"---Decision Tree---\")\n",
        "print(classification_report(testing_targets_tree, predictions_tree))\n",
        "print(\"---Logistic Regression---\")\n",
        "print(classification_report(testing_targets_lr, predictions_lr))"
      ],
      "metadata": {
        "colab": {
          "base_uri": "https://localhost:8080/"
        },
        "id": "DkguMvK1q0Lf",
        "outputId": "0f777ed0-fb93-4900-b9c7-bbcec96553b7"
      },
      "execution_count": 15,
      "outputs": [
        {
          "output_type": "stream",
          "name": "stdout",
          "text": [
            "---Decision Tree---\n",
            "              precision    recall  f1-score   support\n",
            "\n",
            "          -1       0.97      0.95      0.96      1014\n",
            "           1       0.95      0.97      0.96      1197\n",
            "\n",
            "    accuracy                           0.96      2211\n",
            "   macro avg       0.96      0.96      0.96      2211\n",
            "weighted avg       0.96      0.96      0.96      2211\n",
            "\n",
            "---Logistic Regression---\n",
            "              precision    recall  f1-score   support\n",
            "\n",
            "          -1       0.92      0.89      0.91      1014\n",
            "           1       0.91      0.94      0.92      1197\n",
            "\n",
            "    accuracy                           0.92      2211\n",
            "   macro avg       0.92      0.91      0.92      2211\n",
            "weighted avg       0.92      0.92      0.92      2211\n",
            "\n"
          ]
        }
      ]
    },
    {
      "cell_type": "markdown",
      "source": [
        "Từ hai điều trên ta có thể thấy rằng phương pháp Decision Tree Classifier cho độ chính xác cao hơn và hiệu quả hơn so với Logistic Regression\n"
      ],
      "metadata": {
        "id": "-4y8WujWvWAI"
      }
    }
  ]
}