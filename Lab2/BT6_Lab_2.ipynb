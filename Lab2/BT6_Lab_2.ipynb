{
  "nbformat": 4,
  "nbformat_minor": 0,
  "metadata": {
    "colab": {
      "provenance": []
    },
    "kernelspec": {
      "name": "python3",
      "display_name": "Python 3"
    },
    "language_info": {
      "name": "python"
    }
  },
  "cells": [
    {
      "cell_type": "code",
      "execution_count": 6,
      "metadata": {
        "colab": {
          "base_uri": "https://localhost:8080/"
        },
        "id": "oTAVjwdyiGUR",
        "outputId": "cd72b173-7a9f-483b-cd43-2e3494ba7666"
      },
      "outputs": [
        {
          "output_type": "stream",
          "name": "stdout",
          "text": [
            "Reading package lists... Done\n",
            "Building dependency tree... Done\n",
            "Reading state information... Done\n",
            "The following additional packages will be installed:\n",
            "  libfuzzy2\n",
            "The following NEW packages will be installed:\n",
            "  libfuzzy-dev libfuzzy2\n",
            "0 upgraded, 2 newly installed, 0 to remove and 45 not upgraded.\n",
            "Need to get 27.8 kB of archives.\n",
            "After this operation, 104 kB of additional disk space will be used.\n",
            "Get:1 http://archive.ubuntu.com/ubuntu jammy/universe amd64 libfuzzy2 amd64 2.14.1+git20180629.57fcfff-2 [14.8 kB]\n",
            "Get:2 http://archive.ubuntu.com/ubuntu jammy/universe amd64 libfuzzy-dev amd64 2.14.1+git20180629.57fcfff-2 [13.0 kB]\n",
            "Fetched 27.8 kB in 0s (134 kB/s)\n",
            "Selecting previously unselected package libfuzzy2:amd64.\n",
            "(Reading database ... 121752 files and directories currently installed.)\n",
            "Preparing to unpack .../libfuzzy2_2.14.1+git20180629.57fcfff-2_amd64.deb ...\n",
            "Unpacking libfuzzy2:amd64 (2.14.1+git20180629.57fcfff-2) ...\n",
            "Selecting previously unselected package libfuzzy-dev:amd64.\n",
            "Preparing to unpack .../libfuzzy-dev_2.14.1+git20180629.57fcfff-2_amd64.deb ...\n",
            "Unpacking libfuzzy-dev:amd64 (2.14.1+git20180629.57fcfff-2) ...\n",
            "Setting up libfuzzy2:amd64 (2.14.1+git20180629.57fcfff-2) ...\n",
            "Setting up libfuzzy-dev:amd64 (2.14.1+git20180629.57fcfff-2) ...\n",
            "Processing triggers for libc-bin (2.35-0ubuntu3.4) ...\n",
            "/sbin/ldconfig.real: /usr/local/lib/libtbb.so.12 is not a symbolic link\n",
            "\n",
            "/sbin/ldconfig.real: /usr/local/lib/libtbbbind_2_5.so.3 is not a symbolic link\n",
            "\n",
            "/sbin/ldconfig.real: /usr/local/lib/libtbbbind.so.3 is not a symbolic link\n",
            "\n",
            "/sbin/ldconfig.real: /usr/local/lib/libtbbmalloc_proxy.so.2 is not a symbolic link\n",
            "\n",
            "/sbin/ldconfig.real: /usr/local/lib/libtbbmalloc.so.2 is not a symbolic link\n",
            "\n",
            "/sbin/ldconfig.real: /usr/local/lib/libtbbbind_2_0.so.3 is not a symbolic link\n",
            "\n"
          ]
        }
      ],
      "source": [
        "!apt install libfuzzy-dev\n",
        "\n"
      ]
    },
    {
      "cell_type": "code",
      "source": [
        "!pip3 install ssdeep"
      ],
      "metadata": {
        "colab": {
          "base_uri": "https://localhost:8080/"
        },
        "id": "KnJ2HdGOjGST",
        "outputId": "bbad9052-0057-43b3-da90-0fb1f33b2aad"
      },
      "execution_count": 7,
      "outputs": [
        {
          "output_type": "stream",
          "name": "stdout",
          "text": [
            "Collecting ssdeep\n",
            "  Using cached ssdeep-3.4.tar.gz (110 kB)\n",
            "  Preparing metadata (setup.py) ... \u001b[?25l\u001b[?25hdone\n",
            "Requirement already satisfied: cffi>=0.8.6 in /usr/local/lib/python3.10/dist-packages (from ssdeep) (1.16.0)\n",
            "Requirement already satisfied: six>=1.4.1 in /usr/local/lib/python3.10/dist-packages (from ssdeep) (1.16.0)\n",
            "Requirement already satisfied: pycparser in /usr/local/lib/python3.10/dist-packages (from cffi>=0.8.6->ssdeep) (2.22)\n",
            "Building wheels for collected packages: ssdeep\n",
            "  Building wheel for ssdeep (setup.py) ... \u001b[?25l\u001b[?25hdone\n",
            "  Created wheel for ssdeep: filename=ssdeep-3.4-cp310-cp310-linux_x86_64.whl size=33290 sha256=f9ee5f93d51be7b5dd1cb2b23d14681966f9aa8beb6c84e01a771fac168707c1\n",
            "  Stored in directory: /root/.cache/pip/wheels/29/9c/cb/04794e9a89fdec3acfb67930f12e99a727d1159f042b713c03\n",
            "Successfully built ssdeep\n",
            "Installing collected packages: ssdeep\n",
            "Successfully installed ssdeep-3.4\n"
          ]
        }
      ]
    },
    {
      "cell_type": "code",
      "source": [
        "import ssdeep\n",
        "str1 = \"Lorem ipsum dolor sit amet, consectetur adipiscing elit, sed do eiusmod tempor incididunt ut labore et dolore magna aliqua.\"\n",
        "str2 = \"Lorem ipsum dolor sit amet, consectetur adipiscing elit, sed do eiusmod tempor incididunt ut labore et dolore Magna aliqua.\"\n",
        "str3 = \"Lorem ipsum dolor sit amet, consectetur adipiscing elit, sed do eiusmod tempor incididunt ut labore et dolore aliqua.\"\n",
        "str4 = \"Something completely different from the other strings.\"\n",
        "\n",
        "hash1 = ssdeep.hash(str1)\n",
        "hash2 = ssdeep.hash(str2)\n",
        "hash3 = ssdeep.hash(str3)\n",
        "hash4 = ssdeep.hash(str4)\n",
        "print(hash1)\n",
        "print(hash2)\n",
        "print(hash3)\n",
        "print(hash4)\n",
        "\n",
        "print(ssdeep.compare(hash1, hash1))\n",
        "print(ssdeep.compare(hash1, hash2))\n",
        "print(ssdeep.compare(hash1, hash3))\n",
        "print(ssdeep.compare(hash1, hash4))"
      ],
      "metadata": {
        "colab": {
          "base_uri": "https://localhost:8080/"
        },
        "id": "Y6mKrBYvj0YS",
        "outputId": "77545252-a330-4986-e6f0-b9fc83e22b8b"
      },
      "execution_count": 8,
      "outputs": [
        {
          "output_type": "stream",
          "name": "stdout",
          "text": [
            "3:f4oo8MRwRJFGW1gC6uWv6MQ2MFSl+JuBF8BSnJi:f4kPvtHMCMubyFtQ\n",
            "3:f4oo8MRwRJFGW1gC6uWv6MQ2MFSl+JuBF8BS+EFECJi:f4kPvtHMCMubyFIsJQ\n",
            "3:f4oo8MRwRJFGW1gC6uWv6MQ2MFSl+JuBF8BS6:f4kPvtHMCMubyF0\n",
            "3:60QKZ+4CDTfDaRFKYLVL:ywKDC2mVL\n",
            "100\n",
            "39\n",
            "37\n",
            "0\n"
          ]
        }
      ]
    },
    {
      "cell_type": "code",
      "source": [
        "import ssdeep\n",
        "hash1 = ssdeep.hash_from_file(\"/content/drive/MyDrive/python-3.10.0-amd64.exe\")\n",
        "hash2 = ssdeep.hash_from_file(\"/content/drive/MyDrive/python-3.10.0-amd64-fake.exe\")\n",
        "ssdeep.compare(hash1, hash2)\n"
      ],
      "metadata": {
        "colab": {
          "base_uri": "https://localhost:8080/"
        },
        "id": "rsoN8WUpnKLC",
        "outputId": "3237b531-5285-4624-f86d-509275d69682"
      },
      "execution_count": 9,
      "outputs": [
        {
          "output_type": "execute_result",
          "data": {
            "text/plain": [
              "100"
            ]
          },
          "metadata": {},
          "execution_count": 9
        }
      ]
    }
  ]
}