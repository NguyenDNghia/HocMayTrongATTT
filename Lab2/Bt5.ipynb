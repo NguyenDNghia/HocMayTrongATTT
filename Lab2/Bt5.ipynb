{
  "nbformat": 4,
  "nbformat_minor": 0,
  "metadata": {
    "colab": {
      "provenance": [],
      "toc_visible": true
    },
    "kernelspec": {
      "name": "python3",
      "display_name": "Python 3"
    },
    "language_info": {
      "name": "python"
    }
  },
  "cells": [
    {
      "cell_type": "markdown",
      "source": [
        "**Bài 5 : Phân loại tệp tin theo kiểu **\n",
        "\n",
        "\n",
        "\n"
      ],
      "metadata": {
        "id": "K6LXo1b9F5iM"
      }
    },
    {
      "cell_type": "markdown",
      "source": [
        "**B1. Thêm các thư viện cần thiết và đường dẫn tập dữ liệu để chia train và test**"
      ],
      "metadata": {
        "id": "3GlN1NZ2GAFu"
      }
    },
    {
      "cell_type": "markdown",
      "source": [
        "Chạy lại code ở bài 4 để lấy dữ liệu"
      ],
      "metadata": {
        "id": "v5yzP2BbIUy9"
      }
    },
    {
      "cell_type": "code",
      "source": [
        "!rm -rf Dataset-ML\n",
        "!git clone https://github.com/GBao294/Dataset-ML\n"
      ],
      "metadata": {
        "colab": {
          "base_uri": "https://localhost:8080/"
        },
        "id": "_AWfL7jTVRDr",
        "outputId": "0e0104ba-559a-46f2-a85b-45b87d788ef4"
      },
      "execution_count": null,
      "outputs": [
        {
          "output_type": "stream",
          "name": "stdout",
          "text": [
            "Cloning into 'Dataset-ML'...\n",
            "remote: Enumerating objects: 6, done.\u001b[K\n",
            "remote: Counting objects: 100% (6/6), done.\u001b[K\n",
            "remote: Compressing objects: 100% (4/4), done.\u001b[K\n",
            "remote: Total 6 (delta 0), reused 0 (delta 0), pack-reused 0\u001b[K\n",
            "Receiving objects: 100% (6/6), 10.26 MiB | 25.63 MiB/s, done.\n"
          ]
        }
      ]
    },
    {
      "cell_type": "markdown",
      "source": [],
      "metadata": {
        "id": "RTLdiFkQnrir"
      }
    },
    {
      "cell_type": "code",
      "source": [
        "\n",
        "\n",
        "import zipfile\n",
        "import os\n",
        "\n",
        "zip_file_path = '/content/ds_lab2.zip'\n",
        "extract_file_path = '/content/LAB2'\n",
        "with zipfile.ZipFile(zip_file_path, 'r') as zip_ref:\n",
        "  zip_ref.extractall(extract_file_path)\n",
        "\n",
        "\n",
        "!pip install pefile\n",
        "\n",
        "!pip install PyGitHub\n"
      ],
      "metadata": {
        "id": "xNlJ6XlqGTCe",
        "colab": {
          "base_uri": "https://localhost:8080/"
        },
        "outputId": "0d6edb9d-024f-4d8e-cc13-6bdea5603ac8"
      },
      "execution_count": null,
      "outputs": [
        {
          "output_type": "stream",
          "name": "stdout",
          "text": [
            "Requirement already satisfied: pefile in /usr/local/lib/python3.10/dist-packages (2023.2.7)\n",
            "Requirement already satisfied: PyGitHub in /usr/local/lib/python3.10/dist-packages (2.3.0)\n",
            "Requirement already satisfied: pynacl>=1.4.0 in /usr/local/lib/python3.10/dist-packages (from PyGitHub) (1.5.0)\n",
            "Requirement already satisfied: requests>=2.14.0 in /usr/local/lib/python3.10/dist-packages (from PyGitHub) (2.31.0)\n",
            "Requirement already satisfied: pyjwt[crypto]>=2.4.0 in /usr/local/lib/python3.10/dist-packages (from PyGitHub) (2.8.0)\n",
            "Requirement already satisfied: typing-extensions>=4.0.0 in /usr/local/lib/python3.10/dist-packages (from PyGitHub) (4.11.0)\n",
            "Requirement already satisfied: urllib3>=1.26.0 in /usr/local/lib/python3.10/dist-packages (from PyGitHub) (2.0.7)\n",
            "Requirement already satisfied: Deprecated in /usr/local/lib/python3.10/dist-packages (from PyGitHub) (1.2.14)\n",
            "Requirement already satisfied: cryptography>=3.4.0 in /usr/local/lib/python3.10/dist-packages (from pyjwt[crypto]>=2.4.0->PyGitHub) (42.0.5)\n",
            "Requirement already satisfied: cffi>=1.4.1 in /usr/local/lib/python3.10/dist-packages (from pynacl>=1.4.0->PyGitHub) (1.16.0)\n",
            "Requirement already satisfied: charset-normalizer<4,>=2 in /usr/local/lib/python3.10/dist-packages (from requests>=2.14.0->PyGitHub) (3.3.2)\n",
            "Requirement already satisfied: idna<4,>=2.5 in /usr/local/lib/python3.10/dist-packages (from requests>=2.14.0->PyGitHub) (3.6)\n",
            "Requirement already satisfied: certifi>=2017.4.17 in /usr/local/lib/python3.10/dist-packages (from requests>=2.14.0->PyGitHub) (2024.2.2)\n",
            "Requirement already satisfied: wrapt<2,>=1.10 in /usr/local/lib/python3.10/dist-packages (from Deprecated->PyGitHub) (1.14.1)\n",
            "Requirement already satisfied: pycparser in /usr/local/lib/python3.10/dist-packages (from cffi>=1.4.1->pynacl>=1.4.0->PyGitHub) (2.22)\n"
          ]
        }
      ]
    },
    {
      "cell_type": "code",
      "source": [
        "\n",
        "import os\n",
        "from github import Github\n",
        "import base64"
      ],
      "metadata": {
        "id": "JU5eYFOAWl0e"
      },
      "execution_count": null,
      "outputs": []
    },
    {
      "cell_type": "markdown",
      "source": [
        "POWERSHELL"
      ],
      "metadata": {
        "id": "IcAxYPOUX6yK"
      }
    },
    {
      "cell_type": "code",
      "source": [
        "username = \"GBao294\"\n",
        "password = \"UnHbNod4im5nPjurBs82gShjSjgfqg5Fk9ofLKcvn0w\" # Account token, only repo's read permission required.\n",
        "target_dir = \"/content/LAB2/PowerShellSamples\" # ---> Output dir to save resulting files ( JavascriptSamples, PythonSamples, PowerShellSamples)\n",
        "github = Github(username, password)\n",
        "repositories = github.search_repositories(query=\"language:powershell\") # ---> javascript, python, powershell\n",
        "n = 5\n",
        "i = 0\n",
        "count = 0"
      ],
      "metadata": {
        "id": "NeZabxERWmmE"
      },
      "execution_count": null,
      "outputs": []
    },
    {
      "cell_type": "code",
      "source": [
        "for repo in repositories:\n",
        "  reponame = repo.name\n",
        "  target_dir_of_repo = target_dir + \"/\" + reponame\n",
        "  print(reponame)\n",
        "  try:\n",
        "      os.mkdir(target_dir_of_repo)\n",
        "      i += 1\n",
        "      contents = repo.get_contents(\"\")\n",
        "\n",
        "      while len(contents) > 1:\n",
        "          file_content = contents.pop(0)\n",
        "          if file_content.type == \"dir\":\n",
        "              contents.extend(repo.get_contents(file_content.path)) # fileString has a value look like this --> ContentFile(path=\"script.js\")\n",
        "          else:\n",
        "              st = str(file_content)\n",
        "              filename = st.split('\"')[1].split('\"')[0]\n",
        "              extension = filename.split(\".\")[-1]\n",
        "              if extension == \"ps1\": # --> py, ps1, js\n",
        "                  filecontents = repo.get_contents(file_content.path)\n",
        "                  file_data = base64.b64decode(filecontents.content)\n",
        "                  filename = filename.split(\"/\")[-1]\n",
        "                  file_out = open(target_dir_of_repo + \"/\" + filename, \"wb\")\n",
        "                  file_out.write(file_data)\n",
        "  except:\n",
        "      pass\n",
        "  if i == n:  # Only get files from n + 1 repos --> Stop the loop\n",
        "      break"
      ],
      "metadata": {
        "colab": {
          "base_uri": "https://localhost:8080/"
        },
        "id": "n2tmQjRxW0sF",
        "outputId": "bf83c0f2-e278-4c97-d7fb-b074e141323b"
      },
      "execution_count": null,
      "outputs": [
        {
          "output_type": "stream",
          "name": "stdout",
          "text": [
            "core\n",
            "Scoop\n",
            "Windows10Debloater\n",
            "WSL\n",
            "winutil\n",
            "PowerSploit\n",
            "SpotX\n",
            "BloodHound\n",
            "blazor\n",
            "runner-images\n",
            "nishang\n"
          ]
        },
        {
          "output_type": "stream",
          "name": "stderr",
          "text": [
            "Request GET /repos/samratashok/nishang/contents/ failed with 403: Forbidden\n",
            "INFO:github.GithubRetry:Request GET /repos/samratashok/nishang/contents/ failed with 403: Forbidden\n",
            "Setting next backoff to 3280.994589s\n",
            "INFO:github.GithubRetry:Setting next backoff to 3280.994589s\n"
          ]
        },
        {
          "output_type": "stream",
          "name": "stdout",
          "text": [
            "posh-git\n"
          ]
        },
        {
          "output_type": "stream",
          "name": "stderr",
          "text": [
            "Request GET /repos/dahlbyk/posh-git/contents/ failed with 403: Forbidden\n",
            "INFO:github.GithubRetry:Request GET /repos/dahlbyk/posh-git/contents/ failed with 403: Forbidden\n",
            "Setting next backoff to 3226.834003s\n",
            "INFO:github.GithubRetry:Setting next backoff to 3226.834003s\n"
          ]
        },
        {
          "output_type": "stream",
          "name": "stdout",
          "text": [
            "Empire\n"
          ]
        },
        {
          "output_type": "stream",
          "name": "stderr",
          "text": [
            "Request GET /repos/EmpireProject/Empire/contents/ failed with 403: Forbidden\n",
            "INFO:github.GithubRetry:Request GET /repos/EmpireProject/Empire/contents/ failed with 403: Forbidden\n",
            "Setting next backoff to 3223.598454s\n",
            "INFO:github.GithubRetry:Setting next backoff to 3223.598454s\n"
          ]
        },
        {
          "output_type": "stream",
          "name": "stdout",
          "text": [
            "Sophia-Script-for-Windows\n"
          ]
        },
        {
          "output_type": "stream",
          "name": "stderr",
          "text": [
            "Request GET /repos/farag2/Sophia-Script-for-Windows/contents/ failed with 403: Forbidden\n",
            "INFO:github.GithubRetry:Request GET /repos/farag2/Sophia-Script-for-Windows/contents/ failed with 403: Forbidden\n",
            "Setting next backoff to 3212.287348s\n",
            "INFO:github.GithubRetry:Setting next backoff to 3212.287348s\n"
          ]
        },
        {
          "output_type": "stream",
          "name": "stdout",
          "text": [
            "commando-vm\n"
          ]
        },
        {
          "output_type": "stream",
          "name": "stderr",
          "text": [
            "Request GET /repos/mandiant/commando-vm/contents/ failed with 403: Forbidden\n",
            "INFO:github.GithubRetry:Request GET /repos/mandiant/commando-vm/contents/ failed with 403: Forbidden\n",
            "Setting next backoff to 3211.185953s\n",
            "INFO:github.GithubRetry:Setting next backoff to 3211.185953s\n"
          ]
        }
      ]
    },
    {
      "cell_type": "markdown",
      "source": [
        "**JAvascript**"
      ],
      "metadata": {
        "id": "ktDuztceX8zM"
      }
    },
    {
      "cell_type": "code",
      "source": [
        "import os\n",
        "from github import Github\n",
        "import base64\n",
        "\n",
        "username = \"GBao294\"\n",
        "password = \"UnHbNod4im5nPjurBs82gShjSjgfqg5Fk9ofLKcvn0w\" # Account token, only repo's read permission required.\n",
        "target_dir = \"/content/LAB2/JavascriptSamples\" # ---> Output dir to save resulting files ( JavascriptSamples, PythonSamples, PowerShellSamples)\n",
        "github = Github(username, password)\n",
        "repositories = github.search_repositories(query=\"language:javascript\") # ---> javascript, python, powershell\n",
        "n = 5\n",
        "i = 0\n",
        "count = 0\n",
        "for repo in repositories:\n",
        "  reponame = repo.name\n",
        "  target_dir_of_repo = target_dir + \"/\" + reponame\n",
        "  print(reponame)\n",
        "  try:\n",
        "      os.mkdir(target_dir_of_repo)\n",
        "      i += 1\n",
        "      contents = repo.get_contents(\"\")\n",
        "\n",
        "      while len(contents) > 1:\n",
        "          file_content = contents.pop(0)\n",
        "          if file_content.type == \"dir\":\n",
        "              contents.extend(repo.get_contents(file_content.path)) # fileString has a value look like this --> ContentFile(path=\"script.js\")\n",
        "          else:\n",
        "              st = str(file_content)\n",
        "              filename = st.split('\"')[1].split('\"')[0]\n",
        "              extension = filename.split(\".\")[-1]\n",
        "              if extension == \"js\": # --> py, ps1, js\n",
        "                  filecontents = repo.get_contents(file_content.path)\n",
        "                  file_data = base64.b64decode(filecontents.content)\n",
        "                  filename = filename.split(\"/\")[-1]\n",
        "                  file_out = open(target_dir_of_repo + \"/\" + filename, \"wb\")\n",
        "                  file_out.write(file_data)\n",
        "  except:\n",
        "      pass\n",
        "  if i == n:  # Only get files from n + 1 repos --> Stop the loop\n",
        "      break\n"
      ],
      "metadata": {
        "colab": {
          "base_uri": "https://localhost:8080/"
        },
        "id": "HVure0WIf6oT",
        "outputId": "f15b2ee7-94aa-43d4-ec8c-4673772917a8"
      },
      "execution_count": null,
      "outputs": [
        {
          "output_type": "stream",
          "name": "stdout",
          "text": [
            "node\n"
          ]
        },
        {
          "output_type": "stream",
          "name": "stderr",
          "text": [
            "Request GET /repos/nodejs/node/contents/ failed with 403: Forbidden\n",
            "INFO:github.GithubRetry:Request GET /repos/nodejs/node/contents/ failed with 403: Forbidden\n",
            "Setting next backoff to 2914.918611s\n",
            "INFO:github.GithubRetry:Setting next backoff to 2914.918611s\n"
          ]
        },
        {
          "output_type": "stream",
          "name": "stdout",
          "text": [
            "three.js\n"
          ]
        },
        {
          "output_type": "stream",
          "name": "stderr",
          "text": [
            "Request GET /repos/mrdoob/three.js/contents/ failed with 403: Forbidden\n",
            "INFO:github.GithubRetry:Request GET /repos/mrdoob/three.js/contents/ failed with 403: Forbidden\n",
            "Setting next backoff to 2909.100619s\n",
            "INFO:github.GithubRetry:Setting next backoff to 2909.100619s\n"
          ]
        },
        {
          "output_type": "stream",
          "name": "stdout",
          "text": [
            "iptv\n"
          ]
        },
        {
          "output_type": "stream",
          "name": "stderr",
          "text": [
            "Request GET /repos/iptv-org/iptv/contents/ failed with 403: Forbidden\n",
            "INFO:github.GithubRetry:Request GET /repos/iptv-org/iptv/contents/ failed with 403: Forbidden\n",
            "Setting next backoff to 2889.488853s\n",
            "INFO:github.GithubRetry:Setting next backoff to 2889.488853s\n"
          ]
        },
        {
          "output_type": "stream",
          "name": "stdout",
          "text": [
            "json-server\n"
          ]
        },
        {
          "output_type": "stream",
          "name": "stderr",
          "text": [
            "Request GET /repos/typicode/json-server/contents/ failed with 403: Forbidden\n",
            "INFO:github.GithubRetry:Request GET /repos/typicode/json-server/contents/ failed with 403: Forbidden\n",
            "Setting next backoff to 2738.339186s\n",
            "INFO:github.GithubRetry:Setting next backoff to 2738.339186s\n"
          ]
        },
        {
          "output_type": "stream",
          "name": "stdout",
          "text": [
            "Chart.js\n"
          ]
        },
        {
          "output_type": "stream",
          "name": "stderr",
          "text": [
            "Request GET /repos/chartjs/Chart.js/contents/ failed with 403: Forbidden\n",
            "INFO:github.GithubRetry:Request GET /repos/chartjs/Chart.js/contents/ failed with 403: Forbidden\n",
            "Setting next backoff to 2734.086848s\n",
            "INFO:github.GithubRetry:Setting next backoff to 2734.086848s\n"
          ]
        }
      ]
    },
    {
      "cell_type": "code",
      "source": [],
      "metadata": {
        "id": "Cv_qNaM3f6mC"
      },
      "execution_count": null,
      "outputs": []
    },
    {
      "cell_type": "code",
      "source": [],
      "metadata": {
        "id": "G5ojqadDf6jE"
      },
      "execution_count": null,
      "outputs": []
    },
    {
      "cell_type": "markdown",
      "source": [
        "**Python**"
      ],
      "metadata": {
        "id": "nDm0LSTXhre3"
      }
    },
    {
      "cell_type": "code",
      "source": [
        "import os\n",
        "from github import Github\n",
        "import base64\n",
        "\n",
        "username = \"GBao294\"\n",
        "password = \"UnHbNod4im5nPjurBs82gShjSjgfqg5Fk9ofLKcvn0w\" # Account token, only repo's read permission required.\n",
        "target_dir = \"/content/LAB2/PythonSamples\" # ---> Output dir to save resulting files ( JavascriptSamples, PythonSamples, PowerShellSamples)\n",
        "github = Github(username, password)\n",
        "repositories = github.search_repositories(query=\"language:python\") # ---> javascript, python, powershell\n",
        "n = 5\n",
        "i = 0\n",
        "count = 0\n",
        "for repo in repositories:\n",
        "  reponame = repo.name\n",
        "  target_dir_of_repo = target_dir + \"/\" + reponame\n",
        "  print(reponame)\n",
        "  try:\n",
        "      os.mkdir(target_dir_of_repo)\n",
        "      i += 1\n",
        "      contents = repo.get_contents(\"\")\n",
        "\n",
        "      while len(contents) > 1:\n",
        "          file_content = contents.pop(0)\n",
        "          if file_content.type == \"dir\":\n",
        "              contents.extend(repo.get_contents(file_content.path)) # fileString has a value look like this --> ContentFile(path=\"script.js\")\n",
        "          else:\n",
        "              st = str(file_content)\n",
        "              filename = st.split('\"')[1].split('\"')[0]\n",
        "              extension = filename.split(\".\")[-1]\n",
        "              if extension == \"ps1\": # --> py, ps1, js\n",
        "                  filecontents = repo.get_contents(file_content.path)\n",
        "                  file_data = base64.b64decode(filecontents.content)\n",
        "                  filename = filename.split(\"/\")[-1]\n",
        "                  file_out = open(target_dir_of_repo + \"/\" + filename, \"wb\")\n",
        "                  file_out.write(file_data)\n",
        "  except:\n",
        "      pass\n",
        "  if i == n:  # Only get files from n + 1 repos --> Stop the loop\n",
        "      break\n"
      ],
      "metadata": {
        "colab": {
          "base_uri": "https://localhost:8080/"
        },
        "id": "acVreLrbf6Zh",
        "outputId": "7be0429a-cc65-42d2-bf02-184480461f1a"
      },
      "execution_count": null,
      "outputs": [
        {
          "output_type": "stream",
          "name": "stderr",
          "text": [
            "Request GET /repos/tiangolo/fastapi/contents/ failed with 403: Forbidden\n",
            "INFO:github.GithubRetry:Request GET /repos/tiangolo/fastapi/contents/ failed with 403: Forbidden\n",
            "Setting next backoff to 1926.828071s\n",
            "INFO:github.GithubRetry:Setting next backoff to 1926.828071s\n"
          ]
        },
        {
          "output_type": "stream",
          "name": "stdout",
          "text": [
            "public-apis\n",
            "system-design-primer\n",
            "awesome-python\n",
            "Python\n",
            "Python-100-Days\n",
            "stable-diffusion-webui\n",
            "youtube-dl\n",
            "transformers\n",
            "HelloGitHub\n",
            "thefuck\n",
            "langchain\n",
            "pytorch\n",
            "django\n",
            "models\n",
            "fastapi\n",
            "yt-dlp\n"
          ]
        },
        {
          "output_type": "stream",
          "name": "stderr",
          "text": [
            "Request GET /repos/yt-dlp/yt-dlp/contents/ failed with 403: Forbidden\n",
            "INFO:github.GithubRetry:Request GET /repos/yt-dlp/yt-dlp/contents/ failed with 403: Forbidden\n",
            "Setting next backoff to 1745.637073s\n",
            "INFO:github.GithubRetry:Setting next backoff to 1745.637073s\n"
          ]
        },
        {
          "output_type": "stream",
          "name": "stdout",
          "text": [
            "core\n"
          ]
        },
        {
          "output_type": "stream",
          "name": "stderr",
          "text": [
            "Request GET /repos/home-assistant/core/contents/ failed with 403: Forbidden\n",
            "INFO:github.GithubRetry:Request GET /repos/home-assistant/core/contents/ failed with 403: Forbidden\n",
            "Setting next backoff to 1676.055289s\n",
            "INFO:github.GithubRetry:Setting next backoff to 1676.055289s\n"
          ]
        },
        {
          "output_type": "stream",
          "name": "stdout",
          "text": [
            "flask\n"
          ]
        },
        {
          "output_type": "stream",
          "name": "stderr",
          "text": [
            "Request GET /repos/pallets/flask/contents/ failed with 403: Forbidden\n",
            "INFO:github.GithubRetry:Request GET /repos/pallets/flask/contents/ failed with 403: Forbidden\n",
            "Setting next backoff to 1672.405817s\n",
            "INFO:github.GithubRetry:Setting next backoff to 1672.405817s\n"
          ]
        },
        {
          "output_type": "stream",
          "name": "stdout",
          "text": [
            "funNLP\n"
          ]
        },
        {
          "output_type": "stream",
          "name": "stderr",
          "text": [
            "Request GET /repos/fighting41love/funNLP/contents/ failed with 403: Forbidden\n",
            "INFO:github.GithubRetry:Request GET /repos/fighting41love/funNLP/contents/ failed with 403: Forbidden\n",
            "Setting next backoff to 1668.566511s\n",
            "INFO:github.GithubRetry:Setting next backoff to 1668.566511s\n"
          ]
        }
      ]
    },
    {
      "cell_type": "markdown",
      "source": [
        "Bt5 Ex5: Classification by Extension"
      ],
      "metadata": {
        "id": "MVQI_4j4jPh7"
      }
    },
    {
      "cell_type": "code",
      "source": [
        "\n",
        "import os\n",
        "from sklearn.feature_extraction.text import HashingVectorizer, TfidfTransformer\n",
        "from sklearn.ensemble import RandomForestClassifier\n",
        "from sklearn.model_selection import train_test_split\n",
        "from sklearn.metrics import accuracy_score, confusion_matrix\n",
        "from sklearn.pipeline import Pipeline"
      ],
      "metadata": {
        "id": "BnB1-SGZjOoL"
      },
      "execution_count": null,
      "outputs": []
    },
    {
      "cell_type": "code",
      "execution_count": null,
      "metadata": {
        "id": "oq3s2iapFyvh"
      },
      "outputs": [],
      "source": [
        "python_path = \"/content/PythonSamples/\""
      ]
    },
    {
      "cell_type": "code",
      "source": [
        "corpus = []\n",
        "labels = []\n",
        "file_types_and_labels = [(python_path, 0)]"
      ],
      "metadata": {
        "id": "Bjx4iD-CjWPt"
      },
      "execution_count": null,
      "outputs": []
    },
    {
      "cell_type": "code",
      "source": [
        "for files_path, label in file_types_and_labels:\n",
        "  folder = os.listdir(files_path)\n",
        "  for subfolder in folder:\n",
        "    print(\"===== USING FOLDER: %s =====\" % subfolder)\n",
        "    path = files_path + subfolder\n",
        "    for file in os.listdir(path):\n",
        "      print(\"- Running at file: %s\" % (path + '/' + file))\n",
        "      data = ''\n",
        "\n",
        "      try:\n",
        "        with open(f'{path}/{file}', 'r') as myfile:\n",
        "          data = myfile.read().replace('\\n', '')\n",
        "\n",
        "\n",
        "      except:\n",
        "        pass\n",
        "      data = str(data)\n",
        "      corpus.append(data)\n",
        "      labels.append(label)\n"
      ],
      "metadata": {
        "colab": {
          "base_uri": "https://localhost:8080/"
        },
        "id": "hOYdKELnjXql",
        "outputId": "3a4c8bbb-c76d-4485-f578-7ec935ee7c43"
      },
      "execution_count": null,
      "outputs": [
        {
          "output_type": "stream",
          "name": "stdout",
          "text": [
            "===== USING FOLDER: PythonSamples\\awesome-python =====\n",
            "- Running at file: /content/PythonSamples/PythonSamples\\awesome-python/sort.py\n",
            "===== USING FOLDER: PythonSamples\\stable-diffusion-webui =====\n",
            "- Running at file: /content/PythonSamples/PythonSamples\\stable-diffusion-webui/launch.py\n",
            "===== USING FOLDER: PythonSamples\\youtube-dl =====\n",
            "- Running at file: /content/PythonSamples/PythonSamples\\youtube-dl/Untitled Folder\n",
            "- Running at file: /content/PythonSamples/PythonSamples\\youtube-dl/setup.py\n",
            "===== USING FOLDER: PythonSamples\\public-apis =====\n",
            "- Running at file: /content/PythonSamples/PythonSamples\\public-apis/links.py\n",
            "- Running at file: /content/PythonSamples/PythonSamples\\public-apis/test_validate_links.py\n",
            "- Running at file: /content/PythonSamples/PythonSamples\\public-apis/__init__.py\n",
            "- Running at file: /content/PythonSamples/PythonSamples\\public-apis/test_validate_format.py\n",
            "- Running at file: /content/PythonSamples/PythonSamples\\public-apis/format.py\n",
            "===== USING FOLDER: PythonSamples\\system-design-primer =====\n",
            "- Running at file: /content/PythonSamples/PythonSamples\\system-design-primer/__init__.py\n",
            "- Running at file: /content/PythonSamples/PythonSamples\\system-design-primer/query_cache_snippets.py\n",
            "- Running at file: /content/PythonSamples/PythonSamples\\system-design-primer/web_crawler_mapreduce.py\n",
            "- Running at file: /content/PythonSamples/PythonSamples\\system-design-primer/pastebin.py\n",
            "- Running at file: /content/PythonSamples/PythonSamples\\system-design-primer/mint_mapreduce.py\n",
            "- Running at file: /content/PythonSamples/PythonSamples\\system-design-primer/parking_lot.py\n",
            "- Running at file: /content/PythonSamples/PythonSamples\\system-design-primer/lru_cache.py\n",
            "- Running at file: /content/PythonSamples/PythonSamples\\system-design-primer/online_chat.py\n",
            "- Running at file: /content/PythonSamples/PythonSamples\\system-design-primer/social_graph_snippets.py\n",
            "- Running at file: /content/PythonSamples/PythonSamples\\system-design-primer/mint_snippets.py\n",
            "- Running at file: /content/PythonSamples/PythonSamples\\system-design-primer/call_center.py\n",
            "- Running at file: /content/PythonSamples/PythonSamples\\system-design-primer/sales_rank_mapreduce.py\n",
            "- Running at file: /content/PythonSamples/PythonSamples\\system-design-primer/hash_map.py\n",
            "- Running at file: /content/PythonSamples/PythonSamples\\system-design-primer/deck_of_cards.py\n",
            "===== USING FOLDER: PythonSamples\\Python =====\n",
            "- Running at file: /content/PythonSamples/PythonSamples\\Python/binary_shifts.py\n",
            "- Running at file: /content/PythonSamples/PythonSamples\\Python/is_power_of_two.py\n",
            "- Running at file: /content/PythonSamples/PythonSamples\\Python/lempel_ziv.py\n",
            "- Running at file: /content/PythonSamples/PythonSamples\\Python/gray_code_sequence.py\n",
            "- Running at file: /content/PythonSamples/PythonSamples\\Python/power_sum.py\n",
            "- Running at file: /content/PythonSamples/PythonSamples\\Python/binary_to_octal.py\n",
            "- Running at file: /content/PythonSamples/PythonSamples\\Python/swap_all_odd_and_even_bits.py\n",
            "- Running at file: /content/PythonSamples/PythonSamples\\Python/energy_conversions.py\n",
            "- Running at file: /content/PythonSamples/PythonSamples\\Python/a1z26.py\n",
            "- Running at file: /content/PythonSamples/PythonSamples\\Python/nor_gate.py\n",
            "- Running at file: /content/PythonSamples/PythonSamples\\Python/rot13.py\n",
            "- Running at file: /content/PythonSamples/PythonSamples\\Python/excel_title_to_column.py\n",
            "- Running at file: /content/PythonSamples/PythonSamples\\Python/bitwise_addition_recursive.py\n",
            "- Running at file: /content/PythonSamples/PythonSamples\\Python/is_even.py\n",
            "- Running at file: /content/PythonSamples/PythonSamples\\Python/mixed_keyword_cypher.py\n",
            "- Running at file: /content/PythonSamples/PythonSamples\\Python/decimal_to_any.py\n",
            "- Running at file: /content/PythonSamples/PythonSamples\\Python/count_number_of_one_bits.py\n",
            "- Running at file: /content/PythonSamples/PythonSamples\\Python/base16.py\n",
            "- Running at file: /content/PythonSamples/PythonSamples\\Python/affine_cipher.py\n",
            "- Running at file: /content/PythonSamples/PythonSamples\\Python/rsa_factorization.py\n",
            "- Running at file: /content/PythonSamples/PythonSamples\\Python/deterministic_miller_rabin.py\n",
            "- Running at file: /content/PythonSamples/PythonSamples\\Python/generate_parentheses.py\n",
            "- Running at file: /content/PythonSamples/PythonSamples\\Python/__init__.py\n",
            "- Running at file: /content/PythonSamples/PythonSamples\\Python/rabin_miller.py\n",
            "- Running at file: /content/PythonSamples/PythonSamples\\Python/nimply_gate.py\n",
            "- Running at file: /content/PythonSamples/PythonSamples\\Python/binary_coded_decimal.py\n",
            "- Running at file: /content/PythonSamples/PythonSamples\\Python/fractionated_morse_cipher.py\n",
            "- Running at file: /content/PythonSamples/PythonSamples\\Python/langtons_ant.py\n",
            "- Running at file: /content/PythonSamples/PythonSamples\\Python/knight_tour.py\n",
            "- Running at file: /content/PythonSamples/PythonSamples\\Python/decimal_to_hexadecimal.py\n",
            "- Running at file: /content/PythonSamples/PythonSamples\\Python/atbash.py\n",
            "- Running at file: /content/PythonSamples/PythonSamples\\Python/mosaic_augmentation.py\n",
            "- Running at file: /content/PythonSamples/PythonSamples\\Python/length_conversion.py\n",
            "- Running at file: /content/PythonSamples/PythonSamples\\Python/rsa_key_generator.py\n",
            "- Running at file: /content/PythonSamples/PythonSamples\\Python/excess_3_code.py\n",
            "- Running at file: /content/PythonSamples/PythonSamples\\Python/conways_game_of_life.py\n",
            "- Running at file: /content/PythonSamples/PythonSamples\\Python/wa_tor.py\n",
            "- Running at file: /content/PythonSamples/PythonSamples\\Python/transposition_cipher_encrypt_decrypt_file.py\n",
            "- Running at file: /content/PythonSamples/PythonSamples\\Python/numbers_different_signs.py\n",
            "- Running at file: /content/PythonSamples/PythonSamples\\Python/autokey.py\n",
            "- Running at file: /content/PythonSamples/PythonSamples\\Python/binary_to_decimal.py\n",
            "- Running at file: /content/PythonSamples/PythonSamples\\Python/hex_to_bin.py\n",
            "- Running at file: /content/PythonSamples/PythonSamples\\Python/elgamal_key_generator.py\n",
            "- Running at file: /content/PythonSamples/PythonSamples\\Python/butterworth_filter.py\n",
            "- Running at file: /content/PythonSamples/PythonSamples\\Python/brute_force_caesar_cipher.py\n",
            "- Running at file: /content/PythonSamples/PythonSamples\\Python/diffie_hellman.py\n",
            "- Running at file: /content/PythonSamples/PythonSamples\\Python/rgb_hsv_conversion.py\n",
            "- Running at file: /content/PythonSamples/PythonSamples\\Python/binary_twos_complement.py\n",
            "- Running at file: /content/PythonSamples/PythonSamples\\Python/not_gate.py\n",
            "- Running at file: /content/PythonSamples/PythonSamples\\Python/shuffled_shift_cipher.py\n",
            "- Running at file: /content/PythonSamples/PythonSamples\\Python/show_response.py\n",
            "- Running at file: /content/PythonSamples/PythonSamples\\Python/porta_cipher.py\n",
            "- Running at file: /content/PythonSamples/PythonSamples\\Python/all_combinations.py\n",
            "- Running at file: /content/PythonSamples/PythonSamples\\Python/roman_numerals.py\n",
            "- Running at file: /content/PythonSamples/PythonSamples\\Python/binary_to_hexadecimal.py\n",
            "- Running at file: /content/PythonSamples/PythonSamples\\Python/temperature_conversions.py\n",
            "- Running at file: /content/PythonSamples/PythonSamples\\Python/one_dimensional.py\n",
            "- Running at file: /content/PythonSamples/PythonSamples\\Python/base85.py\n",
            "- Running at file: /content/PythonSamples/PythonSamples\\Python/word_search.py\n",
            "- Running at file: /content/PythonSamples/PythonSamples\\Python/nand_gate.py\n",
            "- Running at file: /content/PythonSamples/PythonSamples\\Python/diffie.py\n",
            "- Running at file: /content/PythonSamples/PythonSamples\\Python/octal_to_decimal.py\n",
            "- Running at file: /content/PythonSamples/PythonSamples\\Python/missing_number.py\n",
            "- Running at file: /content/PythonSamples/PythonSamples\\Python/minimax.py\n",
            "- Running at file: /content/PythonSamples/PythonSamples\\Python/decimal_to_binary.py\n",
            "- Running at file: /content/PythonSamples/PythonSamples\\Python/xor_gate.py\n",
            "- Running at file: /content/PythonSamples/PythonSamples\\Python/haralick_descriptors.py\n",
            "- Running at file: /content/PythonSamples/PythonSamples\\Python/combination_sum.py\n",
            "- Running at file: /content/PythonSamples/PythonSamples\\Python/crossword_puzzle_solver.py\n",
            "- Running at file: /content/PythonSamples/PythonSamples\\Python/playfair_cipher.py\n",
            "- Running at file: /content/PythonSamples/PythonSamples\\Python/prefix_conversions_string.py\n",
            "- Running at file: /content/PythonSamples/PythonSamples\\Python/rsa_cipher.py\n",
            "- Running at file: /content/PythonSamples/PythonSamples\\Python/vernam_cipher.py\n",
            "- Running at file: /content/PythonSamples/PythonSamples\\Python/match_word_pattern.py\n",
            "- Running at file: /content/PythonSamples/PythonSamples\\Python/convert_number_to_words.py\n",
            "- Running at file: /content/PythonSamples/PythonSamples\\Python/pooling_functions.py\n",
            "- Running at file: /content/PythonSamples/PythonSamples\\Python/astronomical_length_scale_conversion.py\n",
            "- Running at file: /content/PythonSamples/PythonSamples\\Python/game_of_life.py\n",
            "- Running at file: /content/PythonSamples/PythonSamples\\Python/find_previous_power_of_two.py\n",
            "- Running at file: /content/PythonSamples/PythonSamples\\Python/hill_cipher.py\n",
            "- Running at file: /content/PythonSamples/PythonSamples\\Python/caesar_cipher.py\n",
            "- Running at file: /content/PythonSamples/PythonSamples\\Python/lempel_ziv_decompress.py\n",
            "- Running at file: /content/PythonSamples/PythonSamples\\Python/karnaugh_map_simplification.py\n",
            "- Running at file: /content/PythonSamples/PythonSamples\\Python/peak_signal_to_noise_ratio.py\n",
            "- Running at file: /content/PythonSamples/PythonSamples\\Python/speed_conversions.py\n",
            "- Running at file: /content/PythonSamples/PythonSamples\\Python/octal_to_hexadecimal.py\n",
            "- Running at file: /content/PythonSamples/PythonSamples\\Python/vigenere_cipher.py\n",
            "- Running at file: /content/PythonSamples/PythonSamples\\Python/huffman.py\n",
            "- Running at file: /content/PythonSamples/PythonSamples\\Python/binary_count_setbits.py\n",
            "- Running at file: /content/PythonSamples/PythonSamples\\Python/coloring.py\n",
            "- Running at file: /content/PythonSamples/PythonSamples\\Python/binary_xor_operator.py\n",
            "- Running at file: /content/PythonSamples/PythonSamples\\Python/mean_threshold.py\n",
            "- Running at file: /content/PythonSamples/PythonSamples\\Python/trifid_cipher.py\n",
            "- Running at file: /content/PythonSamples/PythonSamples\\Python/onepad_cipher.py\n",
            "- Running at file: /content/PythonSamples/PythonSamples\\Python/multiplexer.py\n",
            "- Running at file: /content/PythonSamples/PythonSamples\\Python/simple_substitution_cipher.py\n",
            "- Running at file: /content/PythonSamples/PythonSamples\\Python/all_permutations.py\n",
            "- Running at file: /content/PythonSamples/PythonSamples\\Python/imply_gate.py\n",
            "- Running at file: /content/PythonSamples/PythonSamples\\Python/quine_mc_cluskey.py\n",
            "- Running at file: /content/PythonSamples/PythonSamples\\Python/horn_schunck.py\n",
            "- Running at file: /content/PythonSamples/PythonSamples\\Python/time_conversions.py\n",
            "- Running at file: /content/PythonSamples/PythonSamples\\Python/xor_cipher.py\n",
            "- Running at file: /content/PythonSamples/PythonSamples\\Python/running_key_cipher.py\n",
            "- Running at file: /content/PythonSamples/PythonSamples\\Python/ipv4_conversion.py\n",
            "- Running at file: /content/PythonSamples/PythonSamples\\Python/reverse_bits.py\n",
            "- Running at file: /content/PythonSamples/PythonSamples\\Python/n_queens.py\n",
            "- Running at file: /content/PythonSamples/PythonSamples\\Python/sum_of_subsets.py\n",
            "- Running at file: /content/PythonSamples/PythonSamples\\Python/or_gate.py\n",
            "- Running at file: /content/PythonSamples/PythonSamples\\Python/burrows_wheeler.py\n",
            "- Running at file: /content/PythonSamples/PythonSamples\\Python/iir_filter.py\n",
            "- Running at file: /content/PythonSamples/PythonSamples\\Python/highest_set_bit.py\n",
            "- Running at file: /content/PythonSamples/PythonSamples\\Python/morse_code.py\n",
            "- Running at file: /content/PythonSamples/PythonSamples\\Python/run_length_encoding.py\n",
            "- Running at file: /content/PythonSamples/PythonSamples\\Python/mono_alphabetic_ciphers.py\n",
            "- Running at file: /content/PythonSamples/PythonSamples\\Python/permutation_cipher.py\n",
            "- Running at file: /content/PythonSamples/PythonSamples\\Python/decimal_to_octal.py\n",
            "- Running at file: /content/PythonSamples/PythonSamples\\Python/harris_corner.py\n",
            "- Running at file: /content/PythonSamples/PythonSamples\\Python/nagel_schrekenberg.py\n",
            "- Running at file: /content/PythonSamples/PythonSamples\\Python/hamiltonian_cycle.py\n",
            "- Running at file: /content/PythonSamples/PythonSamples\\Python/rail_fence_cipher.py\n",
            "- Running at file: /content/PythonSamples/PythonSamples\\Python/beaufort_cipher.py\n",
            "- Running at file: /content/PythonSamples/PythonSamples\\Python/rat_in_maze.py\n",
            "- Running at file: /content/PythonSamples/PythonSamples\\Python/baconian_cipher.py\n",
            "- Running at file: /content/PythonSamples/PythonSamples\\Python/polybius.py\n",
            "- Running at file: /content/PythonSamples/PythonSamples\\Python/decrypt_caesar_with_chi_squared.py\n",
            "- Running at file: /content/PythonSamples/PythonSamples\\Python/molecular_chemistry.py\n",
            "- Running at file: /content/PythonSamples/PythonSamples\\Python/index_of_rightmost_set_bit.py\n",
            "- Running at file: /content/PythonSamples/PythonSamples\\Python/lz77.py\n",
            "- Running at file: /content/PythonSamples/PythonSamples\\Python/base64.py\n",
            "- Running at file: /content/PythonSamples/PythonSamples\\Python/single_bit_manipulation_operations.py\n",
            "- Running at file: /content/PythonSamples/PythonSamples\\Python/n_queens_math.py\n",
            "- Running at file: /content/PythonSamples/PythonSamples\\Python/binary_count_trailing_zeros.py\n",
            "- Running at file: /content/PythonSamples/PythonSamples\\Python/power_of_4.py\n",
            "- Running at file: /content/PythonSamples/PythonSamples\\Python/all_subsequences.py\n",
            "- Running at file: /content/PythonSamples/PythonSamples\\Python/transposition_cipher.py\n",
            "- Running at file: /content/PythonSamples/PythonSamples\\Python/xnor_gate.py\n",
            "- Running at file: /content/PythonSamples/PythonSamples\\Python/bifid.py\n",
            "- Running at file: /content/PythonSamples/PythonSamples\\Python/sudoku.py\n",
            "- Running at file: /content/PythonSamples/PythonSamples\\Python/base32.py\n",
            "- Running at file: /content/PythonSamples/PythonSamples\\Python/hexadecimal_to_decimal.py\n",
            "- Running at file: /content/PythonSamples/PythonSamples\\Python/rgb_cmyk_conversion.py\n",
            "- Running at file: /content/PythonSamples/PythonSamples\\Python/prefix_conversions.py\n",
            "- Running at file: /content/PythonSamples/PythonSamples\\Python/simple_keyword_cypher.py\n",
            "- Running at file: /content/PythonSamples/PythonSamples\\Python/cnn_classification.py\n",
            "- Running at file: /content/PythonSamples/PythonSamples\\Python/octal_to_binary.py\n",
            "- Running at file: /content/PythonSamples/PythonSamples\\Python/enigma_machine2.py\n",
            "- Running at file: /content/PythonSamples/PythonSamples\\Python/binary_or_operator.py\n",
            "- Running at file: /content/PythonSamples/PythonSamples\\Python/binary_and_operator.py\n",
            "- Running at file: /content/PythonSamples/PythonSamples\\Python/diophantine_equation.py\n",
            "- Running at file: /content/PythonSamples/PythonSamples\\Python/and_gate.py\n",
            "- Running at file: /content/PythonSamples/PythonSamples\\Python/largest_pow_of_two_le_num.py\n",
            "- Running at file: /content/PythonSamples/PythonSamples\\Python/flip_augmentation.py\n",
            "- Running at file: /content/PythonSamples/PythonSamples\\Python/pressure_conversions.py\n",
            "- Running at file: /content/PythonSamples/PythonSamples\\Python/count_1s_brian_kernighan_method.py\n",
            "- Running at file: /content/PythonSamples/PythonSamples\\Python/cryptomath_module.py\n",
            "===== USING FOLDER: PythonSamples\\transformers =====\n",
            "- Running at file: /content/PythonSamples/PythonSamples\\transformers/conftest.py\n"
          ]
        }
      ]
    },
    {
      "cell_type": "code",
      "source": [
        "X_train, X_test, y_train, y_test = train_test_split(corpus, labels, test_size=0.33, random_state=11)\n",
        "text_clf = Pipeline(\n",
        "  [\n",
        "    (\"vect\", HashingVectorizer(input=\"content\", ngram_range=(1,3))),\n",
        "    (\"tfidf\", TfidfTransformer(use_idf=True,)),\n",
        "    (\"rf\", RandomForestClassifier(class_weight=\"balanced\")),\n",
        "  ]\n",
        ")"
      ],
      "metadata": {
        "id": "kdOzLcgvjrs-"
      },
      "execution_count": null,
      "outputs": []
    },
    {
      "cell_type": "code",
      "source": [
        "text_clf.fit(X_train, y_train)"
      ],
      "metadata": {
        "colab": {
          "base_uri": "https://localhost:8080/",
          "height": 160
        },
        "id": "wdfpOM2zmelf",
        "outputId": "855bdfb7-eac0-4c09-fce4-e7d9710638ce"
      },
      "execution_count": null,
      "outputs": [
        {
          "output_type": "execute_result",
          "data": {
            "text/plain": [
              "Pipeline(steps=[('vect', HashingVectorizer(ngram_range=(1, 3))),\n",
              "                ('tfidf', TfidfTransformer()),\n",
              "                ('rf', RandomForestClassifier(class_weight='balanced'))])"
            ],
            "text/html": [
              "<style>#sk-container-id-2 {color: black;background-color: white;}#sk-container-id-2 pre{padding: 0;}#sk-container-id-2 div.sk-toggleable {background-color: white;}#sk-container-id-2 label.sk-toggleable__label {cursor: pointer;display: block;width: 100%;margin-bottom: 0;padding: 0.3em;box-sizing: border-box;text-align: center;}#sk-container-id-2 label.sk-toggleable__label-arrow:before {content: \"▸\";float: left;margin-right: 0.25em;color: #696969;}#sk-container-id-2 label.sk-toggleable__label-arrow:hover:before {color: black;}#sk-container-id-2 div.sk-estimator:hover label.sk-toggleable__label-arrow:before {color: black;}#sk-container-id-2 div.sk-toggleable__content {max-height: 0;max-width: 0;overflow: hidden;text-align: left;background-color: #f0f8ff;}#sk-container-id-2 div.sk-toggleable__content pre {margin: 0.2em;color: black;border-radius: 0.25em;background-color: #f0f8ff;}#sk-container-id-2 input.sk-toggleable__control:checked~div.sk-toggleable__content {max-height: 200px;max-width: 100%;overflow: auto;}#sk-container-id-2 input.sk-toggleable__control:checked~label.sk-toggleable__label-arrow:before {content: \"▾\";}#sk-container-id-2 div.sk-estimator input.sk-toggleable__control:checked~label.sk-toggleable__label {background-color: #d4ebff;}#sk-container-id-2 div.sk-label input.sk-toggleable__control:checked~label.sk-toggleable__label {background-color: #d4ebff;}#sk-container-id-2 input.sk-hidden--visually {border: 0;clip: rect(1px 1px 1px 1px);clip: rect(1px, 1px, 1px, 1px);height: 1px;margin: -1px;overflow: hidden;padding: 0;position: absolute;width: 1px;}#sk-container-id-2 div.sk-estimator {font-family: monospace;background-color: #f0f8ff;border: 1px dotted black;border-radius: 0.25em;box-sizing: border-box;margin-bottom: 0.5em;}#sk-container-id-2 div.sk-estimator:hover {background-color: #d4ebff;}#sk-container-id-2 div.sk-parallel-item::after {content: \"\";width: 100%;border-bottom: 1px solid gray;flex-grow: 1;}#sk-container-id-2 div.sk-label:hover label.sk-toggleable__label {background-color: #d4ebff;}#sk-container-id-2 div.sk-serial::before {content: \"\";position: absolute;border-left: 1px solid gray;box-sizing: border-box;top: 0;bottom: 0;left: 50%;z-index: 0;}#sk-container-id-2 div.sk-serial {display: flex;flex-direction: column;align-items: center;background-color: white;padding-right: 0.2em;padding-left: 0.2em;position: relative;}#sk-container-id-2 div.sk-item {position: relative;z-index: 1;}#sk-container-id-2 div.sk-parallel {display: flex;align-items: stretch;justify-content: center;background-color: white;position: relative;}#sk-container-id-2 div.sk-item::before, #sk-container-id-2 div.sk-parallel-item::before {content: \"\";position: absolute;border-left: 1px solid gray;box-sizing: border-box;top: 0;bottom: 0;left: 50%;z-index: -1;}#sk-container-id-2 div.sk-parallel-item {display: flex;flex-direction: column;z-index: 1;position: relative;background-color: white;}#sk-container-id-2 div.sk-parallel-item:first-child::after {align-self: flex-end;width: 50%;}#sk-container-id-2 div.sk-parallel-item:last-child::after {align-self: flex-start;width: 50%;}#sk-container-id-2 div.sk-parallel-item:only-child::after {width: 0;}#sk-container-id-2 div.sk-dashed-wrapped {border: 1px dashed gray;margin: 0 0.4em 0.5em 0.4em;box-sizing: border-box;padding-bottom: 0.4em;background-color: white;}#sk-container-id-2 div.sk-label label {font-family: monospace;font-weight: bold;display: inline-block;line-height: 1.2em;}#sk-container-id-2 div.sk-label-container {text-align: center;}#sk-container-id-2 div.sk-container {/* jupyter's `normalize.less` sets `[hidden] { display: none; }` but bootstrap.min.css set `[hidden] { display: none !important; }` so we also need the `!important` here to be able to override the default hidden behavior on the sphinx rendered scikit-learn.org. See: https://github.com/scikit-learn/scikit-learn/issues/21755 */display: inline-block !important;position: relative;}#sk-container-id-2 div.sk-text-repr-fallback {display: none;}</style><div id=\"sk-container-id-2\" class=\"sk-top-container\"><div class=\"sk-text-repr-fallback\"><pre>Pipeline(steps=[(&#x27;vect&#x27;, HashingVectorizer(ngram_range=(1, 3))),\n",
              "                (&#x27;tfidf&#x27;, TfidfTransformer()),\n",
              "                (&#x27;rf&#x27;, RandomForestClassifier(class_weight=&#x27;balanced&#x27;))])</pre><b>In a Jupyter environment, please rerun this cell to show the HTML representation or trust the notebook. <br />On GitHub, the HTML representation is unable to render, please try loading this page with nbviewer.org.</b></div><div class=\"sk-container\" hidden><div class=\"sk-item sk-dashed-wrapped\"><div class=\"sk-label-container\"><div class=\"sk-label sk-toggleable\"><input class=\"sk-toggleable__control sk-hidden--visually\" id=\"sk-estimator-id-5\" type=\"checkbox\" ><label for=\"sk-estimator-id-5\" class=\"sk-toggleable__label sk-toggleable__label-arrow\">Pipeline</label><div class=\"sk-toggleable__content\"><pre>Pipeline(steps=[(&#x27;vect&#x27;, HashingVectorizer(ngram_range=(1, 3))),\n",
              "                (&#x27;tfidf&#x27;, TfidfTransformer()),\n",
              "                (&#x27;rf&#x27;, RandomForestClassifier(class_weight=&#x27;balanced&#x27;))])</pre></div></div></div><div class=\"sk-serial\"><div class=\"sk-item\"><div class=\"sk-estimator sk-toggleable\"><input class=\"sk-toggleable__control sk-hidden--visually\" id=\"sk-estimator-id-6\" type=\"checkbox\" ><label for=\"sk-estimator-id-6\" class=\"sk-toggleable__label sk-toggleable__label-arrow\">HashingVectorizer</label><div class=\"sk-toggleable__content\"><pre>HashingVectorizer(ngram_range=(1, 3))</pre></div></div></div><div class=\"sk-item\"><div class=\"sk-estimator sk-toggleable\"><input class=\"sk-toggleable__control sk-hidden--visually\" id=\"sk-estimator-id-7\" type=\"checkbox\" ><label for=\"sk-estimator-id-7\" class=\"sk-toggleable__label sk-toggleable__label-arrow\">TfidfTransformer</label><div class=\"sk-toggleable__content\"><pre>TfidfTransformer()</pre></div></div></div><div class=\"sk-item\"><div class=\"sk-estimator sk-toggleable\"><input class=\"sk-toggleable__control sk-hidden--visually\" id=\"sk-estimator-id-8\" type=\"checkbox\" ><label for=\"sk-estimator-id-8\" class=\"sk-toggleable__label sk-toggleable__label-arrow\">RandomForestClassifier</label><div class=\"sk-toggleable__content\"><pre>RandomForestClassifier(class_weight=&#x27;balanced&#x27;)</pre></div></div></div></div></div></div></div>"
            ]
          },
          "metadata": {},
          "execution_count": 35
        }
      ]
    },
    {
      "cell_type": "code",
      "source": [
        "y_test_pred = text_clf.predict(X_test)\n",
        "print(accuracy_score(y_test, y_test_pred))\n",
        "print(confusion_matrix(y_test, y_test_pred)) # Print Confusion Matrix"
      ],
      "metadata": {
        "colab": {
          "base_uri": "https://localhost:8080/"
        },
        "id": "3DM_Lydpmgjx",
        "outputId": "efa1a1c2-4350-40dc-d08f-819f55f7dc41"
      },
      "execution_count": null,
      "outputs": [
        {
          "output_type": "stream",
          "name": "stdout",
          "text": [
            "1.0\n",
            "[[60]]\n"
          ]
        }
      ]
    },
    {
      "cell_type": "markdown",
      "source": [
        "text_clf.fit(X_train, y_train)"
      ],
      "metadata": {
        "id": "5E-Nunqfmckd"
      }
    },
    {
      "cell_type": "markdown",
      "source": [],
      "metadata": {
        "id": "YbcpWK7rF4qK"
      }
    }
  ]
}